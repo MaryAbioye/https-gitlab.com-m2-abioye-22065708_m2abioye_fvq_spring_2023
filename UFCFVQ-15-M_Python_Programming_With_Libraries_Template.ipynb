{
 "cells": [
  {
   "cell_type": "markdown",
   "metadata": {
    "deletable": false
   },
   "source": [
    "## UFCFVQ-15-M Programming for Data Science (Spring 2023)\n",
    "# Python Programming with Libraries (Task C)\n",
    "\n",
    "## Student Id: 22065708"
   ]
  },
  {
   "cell_type": "markdown",
   "metadata": {
    "deletable": false
   },
   "source": [
    "### Requirement FR7 - Read CSV data from two files and merge it into a single Data Frame "
   ]
  },
  {
   "cell_type": "code",
   "execution_count": 1,
   "metadata": {
    "deletable": false
   },
   "outputs": [
    {
     "name": "stdout",
     "output_type": "stream",
     "text": [
      "       Unnamed: 0  id_student gender                region  \\\n",
      "0               0       11391      M   East Anglian Region   \n",
      "1               1       28400      F              Scotland   \n",
      "2               2       31604      F     South East Region   \n",
      "3               3       32885      F  West Midlands Region   \n",
      "4               4       38053      M                 Wales   \n",
      "...           ...         ...    ...                   ...   \n",
      "26716       26741     2620947      F              Scotland   \n",
      "26717       26742     2645731      F   East Anglian Region   \n",
      "26718       26743     2648187      F          South Region   \n",
      "26719       26744     2679821      F     South East Region   \n",
      "26720       26745     2684003      F      Yorkshire Region   \n",
      "\n",
      "           highest_education age_band disability final_result  score  \\\n",
      "0           HE Qualification     55<=          N         Pass   82.0   \n",
      "1           HE Qualification    35-55          N         Pass   67.0   \n",
      "2      A Level or Equivalent    35-55          N         Pass   76.0   \n",
      "3         Lower Than A Level     0-35          N         Pass   55.0   \n",
      "4      A Level or Equivalent    35-55          N         Pass   68.0   \n",
      "...                      ...      ...        ...          ...    ...   \n",
      "26716  A Level or Equivalent     0-35          Y  Distinction   89.0   \n",
      "26717     Lower Than A Level    35-55          N  Distinction   89.0   \n",
      "26718  A Level or Equivalent     0-35          Y         Pass   77.0   \n",
      "26719     Lower Than A Level    35-55          N    Withdrawn   92.0   \n",
      "26720       HE Qualification    35-55          N  Distinction   83.0   \n",
      "\n",
      "       click_events  \n",
      "0             934.0  \n",
      "1            1435.0  \n",
      "2            2158.0  \n",
      "3            1034.0  \n",
      "4            2445.0  \n",
      "...             ...  \n",
      "26716         476.0  \n",
      "26717         893.0  \n",
      "26718         312.0  \n",
      "26719         275.0  \n",
      "26720         616.0  \n",
      "\n",
      "[26721 rows x 10 columns]\n"
     ]
    }
   ],
   "source": [
    "# replace with your code\n",
    "import pandas as pd\n",
    "\n",
    "# read CSV data from first file\n",
    "task2a = pd.read_csv('task2a.csv',  )\n",
    "\n",
    "# read CSV data from second file\n",
    "task2b = pd.read_csv('task2b.csv', )\n",
    "\n",
    "# merge the two DataFrames into a single Data\n",
    "merged_file = pd.merge(task2a, task2b, on = 'id_student')\n",
    "\n",
    "\n",
    "# print the merged DataFrame\n",
    "\n",
    "print(merged_file)\n",
    "\n",
    "\n",
    "\n"
   ]
  },
  {
   "cell_type": "code",
   "execution_count": 2,
   "metadata": {},
   "outputs": [
    {
     "data": {
      "text/html": [
       "<div>\n",
       "<style scoped>\n",
       "    .dataframe tbody tr th:only-of-type {\n",
       "        vertical-align: middle;\n",
       "    }\n",
       "\n",
       "    .dataframe tbody tr th {\n",
       "        vertical-align: top;\n",
       "    }\n",
       "\n",
       "    .dataframe thead th {\n",
       "        text-align: right;\n",
       "    }\n",
       "</style>\n",
       "<table border=\"1\" class=\"dataframe\">\n",
       "  <thead>\n",
       "    <tr style=\"text-align: right;\">\n",
       "      <th></th>\n",
       "      <th>Unnamed: 0</th>\n",
       "      <th>id_student</th>\n",
       "      <th>gender</th>\n",
       "      <th>region</th>\n",
       "      <th>highest_education</th>\n",
       "      <th>age_band</th>\n",
       "      <th>disability</th>\n",
       "      <th>final_result</th>\n",
       "      <th>score</th>\n",
       "    </tr>\n",
       "  </thead>\n",
       "  <tbody>\n",
       "    <tr>\n",
       "      <th>0</th>\n",
       "      <td>0</td>\n",
       "      <td>11391</td>\n",
       "      <td>M</td>\n",
       "      <td>East Anglian Region</td>\n",
       "      <td>HE Qualification</td>\n",
       "      <td>55&lt;=</td>\n",
       "      <td>N</td>\n",
       "      <td>Pass</td>\n",
       "      <td>82.0</td>\n",
       "    </tr>\n",
       "    <tr>\n",
       "      <th>1</th>\n",
       "      <td>1</td>\n",
       "      <td>28400</td>\n",
       "      <td>F</td>\n",
       "      <td>Scotland</td>\n",
       "      <td>HE Qualification</td>\n",
       "      <td>35-55</td>\n",
       "      <td>N</td>\n",
       "      <td>Pass</td>\n",
       "      <td>67.0</td>\n",
       "    </tr>\n",
       "    <tr>\n",
       "      <th>2</th>\n",
       "      <td>2</td>\n",
       "      <td>31604</td>\n",
       "      <td>F</td>\n",
       "      <td>South East Region</td>\n",
       "      <td>A Level or Equivalent</td>\n",
       "      <td>35-55</td>\n",
       "      <td>N</td>\n",
       "      <td>Pass</td>\n",
       "      <td>76.0</td>\n",
       "    </tr>\n",
       "    <tr>\n",
       "      <th>3</th>\n",
       "      <td>3</td>\n",
       "      <td>32885</td>\n",
       "      <td>F</td>\n",
       "      <td>West Midlands Region</td>\n",
       "      <td>Lower Than A Level</td>\n",
       "      <td>0-35</td>\n",
       "      <td>N</td>\n",
       "      <td>Pass</td>\n",
       "      <td>55.0</td>\n",
       "    </tr>\n",
       "    <tr>\n",
       "      <th>4</th>\n",
       "      <td>4</td>\n",
       "      <td>38053</td>\n",
       "      <td>M</td>\n",
       "      <td>Wales</td>\n",
       "      <td>A Level or Equivalent</td>\n",
       "      <td>35-55</td>\n",
       "      <td>N</td>\n",
       "      <td>Pass</td>\n",
       "      <td>68.0</td>\n",
       "    </tr>\n",
       "  </tbody>\n",
       "</table>\n",
       "</div>"
      ],
      "text/plain": [
       "   Unnamed: 0  id_student gender                region      highest_education  \\\n",
       "0           0       11391      M   East Anglian Region       HE Qualification   \n",
       "1           1       28400      F              Scotland       HE Qualification   \n",
       "2           2       31604      F     South East Region  A Level or Equivalent   \n",
       "3           3       32885      F  West Midlands Region     Lower Than A Level   \n",
       "4           4       38053      M                 Wales  A Level or Equivalent   \n",
       "\n",
       "  age_band disability final_result  score  \n",
       "0     55<=          N         Pass   82.0  \n",
       "1    35-55          N         Pass   67.0  \n",
       "2    35-55          N         Pass   76.0  \n",
       "3     0-35          N         Pass   55.0  \n",
       "4    35-55          N         Pass   68.0  "
      ]
     },
     "execution_count": 2,
     "metadata": {},
     "output_type": "execute_result"
    }
   ],
   "source": [
    "task2a.head()"
   ]
  },
  {
   "cell_type": "code",
   "execution_count": 3,
   "metadata": {},
   "outputs": [
    {
     "data": {
      "text/html": [
       "<div>\n",
       "<style scoped>\n",
       "    .dataframe tbody tr th:only-of-type {\n",
       "        vertical-align: middle;\n",
       "    }\n",
       "\n",
       "    .dataframe tbody tr th {\n",
       "        vertical-align: top;\n",
       "    }\n",
       "\n",
       "    .dataframe thead th {\n",
       "        text-align: right;\n",
       "    }\n",
       "</style>\n",
       "<table border=\"1\" class=\"dataframe\">\n",
       "  <thead>\n",
       "    <tr style=\"text-align: right;\">\n",
       "      <th></th>\n",
       "      <th>id_student</th>\n",
       "      <th>click_events</th>\n",
       "    </tr>\n",
       "  </thead>\n",
       "  <tbody>\n",
       "    <tr>\n",
       "      <th>0</th>\n",
       "      <td>6516</td>\n",
       "      <td>2791.0</td>\n",
       "    </tr>\n",
       "    <tr>\n",
       "      <th>1</th>\n",
       "      <td>8462</td>\n",
       "      <td>656.0</td>\n",
       "    </tr>\n",
       "    <tr>\n",
       "      <th>2</th>\n",
       "      <td>11391</td>\n",
       "      <td>934.0</td>\n",
       "    </tr>\n",
       "    <tr>\n",
       "      <th>3</th>\n",
       "      <td>23629</td>\n",
       "      <td>NaN</td>\n",
       "    </tr>\n",
       "    <tr>\n",
       "      <th>4</th>\n",
       "      <td>23698</td>\n",
       "      <td>910.0</td>\n",
       "    </tr>\n",
       "  </tbody>\n",
       "</table>\n",
       "</div>"
      ],
      "text/plain": [
       "   id_student  click_events\n",
       "0        6516        2791.0\n",
       "1        8462         656.0\n",
       "2       11391         934.0\n",
       "3       23629           NaN\n",
       "4       23698         910.0"
      ]
     },
     "execution_count": 3,
     "metadata": {},
     "output_type": "execute_result"
    }
   ],
   "source": [
    "task2b.head()"
   ]
  },
  {
   "cell_type": "code",
   "execution_count": 4,
   "metadata": {},
   "outputs": [
    {
     "data": {
      "text/html": [
       "<div>\n",
       "<style scoped>\n",
       "    .dataframe tbody tr th:only-of-type {\n",
       "        vertical-align: middle;\n",
       "    }\n",
       "\n",
       "    .dataframe tbody tr th {\n",
       "        vertical-align: top;\n",
       "    }\n",
       "\n",
       "    .dataframe thead th {\n",
       "        text-align: right;\n",
       "    }\n",
       "</style>\n",
       "<table border=\"1\" class=\"dataframe\">\n",
       "  <thead>\n",
       "    <tr style=\"text-align: right;\">\n",
       "      <th></th>\n",
       "      <th>Unnamed: 0</th>\n",
       "      <th>id_student</th>\n",
       "      <th>gender</th>\n",
       "      <th>region</th>\n",
       "      <th>highest_education</th>\n",
       "      <th>age_band</th>\n",
       "      <th>disability</th>\n",
       "      <th>final_result</th>\n",
       "      <th>score</th>\n",
       "      <th>click_events</th>\n",
       "    </tr>\n",
       "  </thead>\n",
       "  <tbody>\n",
       "    <tr>\n",
       "      <th>0</th>\n",
       "      <td>0</td>\n",
       "      <td>11391</td>\n",
       "      <td>M</td>\n",
       "      <td>East Anglian Region</td>\n",
       "      <td>HE Qualification</td>\n",
       "      <td>55&lt;=</td>\n",
       "      <td>N</td>\n",
       "      <td>Pass</td>\n",
       "      <td>82.0</td>\n",
       "      <td>934.0</td>\n",
       "    </tr>\n",
       "    <tr>\n",
       "      <th>1</th>\n",
       "      <td>1</td>\n",
       "      <td>28400</td>\n",
       "      <td>F</td>\n",
       "      <td>Scotland</td>\n",
       "      <td>HE Qualification</td>\n",
       "      <td>35-55</td>\n",
       "      <td>N</td>\n",
       "      <td>Pass</td>\n",
       "      <td>67.0</td>\n",
       "      <td>1435.0</td>\n",
       "    </tr>\n",
       "    <tr>\n",
       "      <th>2</th>\n",
       "      <td>2</td>\n",
       "      <td>31604</td>\n",
       "      <td>F</td>\n",
       "      <td>South East Region</td>\n",
       "      <td>A Level or Equivalent</td>\n",
       "      <td>35-55</td>\n",
       "      <td>N</td>\n",
       "      <td>Pass</td>\n",
       "      <td>76.0</td>\n",
       "      <td>2158.0</td>\n",
       "    </tr>\n",
       "    <tr>\n",
       "      <th>3</th>\n",
       "      <td>3</td>\n",
       "      <td>32885</td>\n",
       "      <td>F</td>\n",
       "      <td>West Midlands Region</td>\n",
       "      <td>Lower Than A Level</td>\n",
       "      <td>0-35</td>\n",
       "      <td>N</td>\n",
       "      <td>Pass</td>\n",
       "      <td>55.0</td>\n",
       "      <td>1034.0</td>\n",
       "    </tr>\n",
       "    <tr>\n",
       "      <th>4</th>\n",
       "      <td>4</td>\n",
       "      <td>38053</td>\n",
       "      <td>M</td>\n",
       "      <td>Wales</td>\n",
       "      <td>A Level or Equivalent</td>\n",
       "      <td>35-55</td>\n",
       "      <td>N</td>\n",
       "      <td>Pass</td>\n",
       "      <td>68.0</td>\n",
       "      <td>2445.0</td>\n",
       "    </tr>\n",
       "  </tbody>\n",
       "</table>\n",
       "</div>"
      ],
      "text/plain": [
       "   Unnamed: 0  id_student gender                region      highest_education  \\\n",
       "0           0       11391      M   East Anglian Region       HE Qualification   \n",
       "1           1       28400      F              Scotland       HE Qualification   \n",
       "2           2       31604      F     South East Region  A Level or Equivalent   \n",
       "3           3       32885      F  West Midlands Region     Lower Than A Level   \n",
       "4           4       38053      M                 Wales  A Level or Equivalent   \n",
       "\n",
       "  age_band disability final_result  score  click_events  \n",
       "0     55<=          N         Pass   82.0         934.0  \n",
       "1    35-55          N         Pass   67.0        1435.0  \n",
       "2    35-55          N         Pass   76.0        2158.0  \n",
       "3     0-35          N         Pass   55.0        1034.0  \n",
       "4    35-55          N         Pass   68.0        2445.0  "
      ]
     },
     "execution_count": 4,
     "metadata": {},
     "output_type": "execute_result"
    }
   ],
   "source": [
    "merged_file.head()"
   ]
  },
  {
   "cell_type": "code",
   "execution_count": 5,
   "metadata": {},
   "outputs": [
    {
     "name": "stdout",
     "output_type": "stream",
     "text": [
      "<class 'pandas.core.frame.DataFrame'>\n",
      "Int64Index: 26721 entries, 0 to 26720\n",
      "Data columns (total 10 columns):\n",
      " #   Column             Non-Null Count  Dtype  \n",
      "---  ------             --------------  -----  \n",
      " 0   Unnamed: 0         26721 non-null  int64  \n",
      " 1   id_student         26721 non-null  int64  \n",
      " 2   gender             26721 non-null  object \n",
      " 3   region             26721 non-null  object \n",
      " 4   highest_education  26721 non-null  object \n",
      " 5   age_band           26721 non-null  object \n",
      " 6   disability         26721 non-null  object \n",
      " 7   final_result       26721 non-null  object \n",
      " 8   score              26702 non-null  float64\n",
      " 9   click_events       25350 non-null  float64\n",
      "dtypes: float64(2), int64(2), object(6)\n",
      "memory usage: 2.2+ MB\n"
     ]
    }
   ],
   "source": [
    "merged_file.info()"
   ]
  },
  {
   "cell_type": "markdown",
   "metadata": {
    "deletable": false
   },
   "source": [
    "<p style=\"color:red; font-weight:bold; font-size:xx-small\">MARK: __%</p>\n",
    "<p style=\"color:red; font-weight:bold; font-size:xx-small\">FEEDBACK: </p>"
   ]
  },
  {
   "cell_type": "markdown",
   "metadata": {
    "deletable": false
   },
   "source": [
    "### Requirement FR8 - Clean the merged data"
   ]
  },
  {
   "cell_type": "code",
   "execution_count": 6,
   "metadata": {
    "deletable": false
   },
   "outputs": [
    {
     "name": "stdout",
     "output_type": "stream",
     "text": [
      "       Unnamed: 0  id_student gender age_band disability  score  click_events\n",
      "0               0       11391      M     55<=          N   82.0         934.0\n",
      "1               1       28400      F    35-55          N   67.0        1435.0\n",
      "2               2       31604      F    35-55          N   76.0        2158.0\n",
      "3               3       32885      F     0-35          N   55.0        1034.0\n",
      "4               4       38053      M    35-55          N   68.0        2445.0\n",
      "...           ...         ...    ...      ...        ...    ...           ...\n",
      "26716       26741     2620947      F     0-35          Y   89.0         476.0\n",
      "26717       26742     2645731      F    35-55          N   89.0         893.0\n",
      "26718       26743     2648187      F     0-35          Y   77.0         312.0\n",
      "26719       26744     2679821      F    35-55          N   92.0         275.0\n",
      "26720       26745     2684003      F    35-55          N   83.0         616.0\n",
      "\n",
      "[25332 rows x 7 columns]\n"
     ]
    }
   ],
   "source": [
    "# replace with your code\n",
    "import pandas as pd\n",
    "\n",
    "\n",
    "merged_file = merged_file.dropna()\n",
    "\n",
    "#remove the irrelevant columns\n",
    "merged_file = merged_file.drop(['region', 'final_result', 'highest_education'], axis = 1)\n",
    "\n",
    "#print the cleaned data\n",
    "print(merged_file)\n",
    "\n",
    "\n"
   ]
  },
  {
   "cell_type": "code",
   "execution_count": 7,
   "metadata": {},
   "outputs": [
    {
     "data": {
      "text/html": [
       "<div>\n",
       "<style scoped>\n",
       "    .dataframe tbody tr th:only-of-type {\n",
       "        vertical-align: middle;\n",
       "    }\n",
       "\n",
       "    .dataframe tbody tr th {\n",
       "        vertical-align: top;\n",
       "    }\n",
       "\n",
       "    .dataframe thead th {\n",
       "        text-align: right;\n",
       "    }\n",
       "</style>\n",
       "<table border=\"1\" class=\"dataframe\">\n",
       "  <thead>\n",
       "    <tr style=\"text-align: right;\">\n",
       "      <th></th>\n",
       "      <th>Unnamed: 0</th>\n",
       "      <th>id_student</th>\n",
       "      <th>gender</th>\n",
       "      <th>age_band</th>\n",
       "      <th>disability</th>\n",
       "      <th>score</th>\n",
       "      <th>click_events</th>\n",
       "    </tr>\n",
       "  </thead>\n",
       "  <tbody>\n",
       "    <tr>\n",
       "      <th>0</th>\n",
       "      <td>0</td>\n",
       "      <td>11391</td>\n",
       "      <td>M</td>\n",
       "      <td>55&lt;=</td>\n",
       "      <td>N</td>\n",
       "      <td>82.0</td>\n",
       "      <td>934.0</td>\n",
       "    </tr>\n",
       "    <tr>\n",
       "      <th>1</th>\n",
       "      <td>1</td>\n",
       "      <td>28400</td>\n",
       "      <td>F</td>\n",
       "      <td>35-55</td>\n",
       "      <td>N</td>\n",
       "      <td>67.0</td>\n",
       "      <td>1435.0</td>\n",
       "    </tr>\n",
       "    <tr>\n",
       "      <th>2</th>\n",
       "      <td>2</td>\n",
       "      <td>31604</td>\n",
       "      <td>F</td>\n",
       "      <td>35-55</td>\n",
       "      <td>N</td>\n",
       "      <td>76.0</td>\n",
       "      <td>2158.0</td>\n",
       "    </tr>\n",
       "    <tr>\n",
       "      <th>3</th>\n",
       "      <td>3</td>\n",
       "      <td>32885</td>\n",
       "      <td>F</td>\n",
       "      <td>0-35</td>\n",
       "      <td>N</td>\n",
       "      <td>55.0</td>\n",
       "      <td>1034.0</td>\n",
       "    </tr>\n",
       "    <tr>\n",
       "      <th>4</th>\n",
       "      <td>4</td>\n",
       "      <td>38053</td>\n",
       "      <td>M</td>\n",
       "      <td>35-55</td>\n",
       "      <td>N</td>\n",
       "      <td>68.0</td>\n",
       "      <td>2445.0</td>\n",
       "    </tr>\n",
       "  </tbody>\n",
       "</table>\n",
       "</div>"
      ],
      "text/plain": [
       "   Unnamed: 0  id_student gender age_band disability  score  click_events\n",
       "0           0       11391      M     55<=          N   82.0         934.0\n",
       "1           1       28400      F    35-55          N   67.0        1435.0\n",
       "2           2       31604      F    35-55          N   76.0        2158.0\n",
       "3           3       32885      F     0-35          N   55.0        1034.0\n",
       "4           4       38053      M    35-55          N   68.0        2445.0"
      ]
     },
     "execution_count": 7,
     "metadata": {},
     "output_type": "execute_result"
    }
   ],
   "source": [
    "merged_file.head()"
   ]
  },
  {
   "cell_type": "code",
   "execution_count": 8,
   "metadata": {},
   "outputs": [
    {
     "name": "stdout",
     "output_type": "stream",
     "text": [
      "<class 'pandas.core.frame.DataFrame'>\n",
      "Int64Index: 25332 entries, 0 to 26720\n",
      "Data columns (total 7 columns):\n",
      " #   Column        Non-Null Count  Dtype  \n",
      "---  ------        --------------  -----  \n",
      " 0   Unnamed: 0    25332 non-null  int64  \n",
      " 1   id_student    25332 non-null  int64  \n",
      " 2   gender        25332 non-null  object \n",
      " 3   age_band      25332 non-null  object \n",
      " 4   disability    25332 non-null  object \n",
      " 5   score         25332 non-null  float64\n",
      " 6   click_events  25332 non-null  float64\n",
      "dtypes: float64(2), int64(2), object(3)\n",
      "memory usage: 1.5+ MB\n"
     ]
    }
   ],
   "source": [
    "merged_file.info()"
   ]
  },
  {
   "cell_type": "markdown",
   "metadata": {
    "deletable": false
   },
   "source": [
    "<p style=\"color:red; font-weight:bold; font-size:xx-small\">MARK: __%</p>\n",
    "<p style=\"color:red; font-weight:bold; font-size:xx-small\">FEEDBACK: </p>"
   ]
  },
  {
   "cell_type": "markdown",
   "metadata": {
    "deletable": false
   },
   "source": [
    "### Requirement FR9 - Filter out unnecessary rows"
   ]
  },
  {
   "cell_type": "code",
   "execution_count": 9,
   "metadata": {
    "deletable": false
   },
   "outputs": [
    {
     "name": "stdout",
     "output_type": "stream",
     "text": [
      "       Unnamed: 0  id_student gender age_band disability  score  click_events\n",
      "0               0       11391      M     55<=          N   82.0         934.0\n",
      "1               1       28400      F    35-55          N   67.0        1435.0\n",
      "2               2       31604      F    35-55          N   76.0        2158.0\n",
      "3               3       32885      F     0-35          N   55.0        1034.0\n",
      "4               4       38053      M    35-55          N   68.0        2445.0\n",
      "...           ...         ...    ...      ...        ...    ...           ...\n",
      "26716       26741     2620947      F     0-35          Y   89.0         476.0\n",
      "26717       26742     2645731      F    35-55          N   89.0         893.0\n",
      "26718       26743     2648187      F     0-35          Y   77.0         312.0\n",
      "26719       26744     2679821      F    35-55          N   92.0         275.0\n",
      "26720       26745     2684003      F    35-55          N   83.0         616.0\n",
      "\n",
      "[22133 rows x 7 columns]\n"
     ]
    }
   ],
   "source": [
    "# replace with your code\n",
    "\n",
    "\n",
    "\n",
    "#filter out rows where clickevents is greater than 20000\n",
    "merged_file = merged_file[merged_file['click_events'] <= 20000]\n",
    "\n",
    "\n",
    "\n",
    "\n",
    "#drop duplicates\n",
    "merged_file = merged_file.drop_duplicates(subset='id_student', keep='first')\n",
    "\n",
    "\n",
    "\n",
    "#print filtered dataframe\n",
    "print(merged_file)\n",
    "\n",
    "\n",
    "\n",
    "\n",
    "\n"
   ]
  },
  {
   "cell_type": "code",
   "execution_count": 10,
   "metadata": {},
   "outputs": [
    {
     "data": {
      "text/html": [
       "<div>\n",
       "<style scoped>\n",
       "    .dataframe tbody tr th:only-of-type {\n",
       "        vertical-align: middle;\n",
       "    }\n",
       "\n",
       "    .dataframe tbody tr th {\n",
       "        vertical-align: top;\n",
       "    }\n",
       "\n",
       "    .dataframe thead th {\n",
       "        text-align: right;\n",
       "    }\n",
       "</style>\n",
       "<table border=\"1\" class=\"dataframe\">\n",
       "  <thead>\n",
       "    <tr style=\"text-align: right;\">\n",
       "      <th></th>\n",
       "      <th>Unnamed: 0</th>\n",
       "      <th>id_student</th>\n",
       "      <th>gender</th>\n",
       "      <th>age_band</th>\n",
       "      <th>disability</th>\n",
       "      <th>score</th>\n",
       "      <th>click_events</th>\n",
       "    </tr>\n",
       "  </thead>\n",
       "  <tbody>\n",
       "    <tr>\n",
       "      <th>0</th>\n",
       "      <td>0</td>\n",
       "      <td>11391</td>\n",
       "      <td>M</td>\n",
       "      <td>55&lt;=</td>\n",
       "      <td>N</td>\n",
       "      <td>82.0</td>\n",
       "      <td>934.0</td>\n",
       "    </tr>\n",
       "    <tr>\n",
       "      <th>1</th>\n",
       "      <td>1</td>\n",
       "      <td>28400</td>\n",
       "      <td>F</td>\n",
       "      <td>35-55</td>\n",
       "      <td>N</td>\n",
       "      <td>67.0</td>\n",
       "      <td>1435.0</td>\n",
       "    </tr>\n",
       "    <tr>\n",
       "      <th>2</th>\n",
       "      <td>2</td>\n",
       "      <td>31604</td>\n",
       "      <td>F</td>\n",
       "      <td>35-55</td>\n",
       "      <td>N</td>\n",
       "      <td>76.0</td>\n",
       "      <td>2158.0</td>\n",
       "    </tr>\n",
       "    <tr>\n",
       "      <th>3</th>\n",
       "      <td>3</td>\n",
       "      <td>32885</td>\n",
       "      <td>F</td>\n",
       "      <td>0-35</td>\n",
       "      <td>N</td>\n",
       "      <td>55.0</td>\n",
       "      <td>1034.0</td>\n",
       "    </tr>\n",
       "    <tr>\n",
       "      <th>4</th>\n",
       "      <td>4</td>\n",
       "      <td>38053</td>\n",
       "      <td>M</td>\n",
       "      <td>35-55</td>\n",
       "      <td>N</td>\n",
       "      <td>68.0</td>\n",
       "      <td>2445.0</td>\n",
       "    </tr>\n",
       "  </tbody>\n",
       "</table>\n",
       "</div>"
      ],
      "text/plain": [
       "   Unnamed: 0  id_student gender age_band disability  score  click_events\n",
       "0           0       11391      M     55<=          N   82.0         934.0\n",
       "1           1       28400      F    35-55          N   67.0        1435.0\n",
       "2           2       31604      F    35-55          N   76.0        2158.0\n",
       "3           3       32885      F     0-35          N   55.0        1034.0\n",
       "4           4       38053      M    35-55          N   68.0        2445.0"
      ]
     },
     "execution_count": 10,
     "metadata": {},
     "output_type": "execute_result"
    }
   ],
   "source": [
    "merged_file.head()"
   ]
  },
  {
   "cell_type": "code",
   "execution_count": 11,
   "metadata": {},
   "outputs": [
    {
     "name": "stdout",
     "output_type": "stream",
     "text": [
      "<class 'pandas.core.frame.DataFrame'>\n",
      "Int64Index: 22133 entries, 0 to 26720\n",
      "Data columns (total 7 columns):\n",
      " #   Column        Non-Null Count  Dtype  \n",
      "---  ------        --------------  -----  \n",
      " 0   Unnamed: 0    22133 non-null  int64  \n",
      " 1   id_student    22133 non-null  int64  \n",
      " 2   gender        22133 non-null  object \n",
      " 3   age_band      22133 non-null  object \n",
      " 4   disability    22133 non-null  object \n",
      " 5   score         22133 non-null  float64\n",
      " 6   click_events  22133 non-null  float64\n",
      "dtypes: float64(2), int64(2), object(3)\n",
      "memory usage: 1.4+ MB\n"
     ]
    }
   ],
   "source": [
    "merged_file.info()"
   ]
  },
  {
   "cell_type": "markdown",
   "metadata": {
    "deletable": false
   },
   "source": [
    "<p style=\"color:red; font-weight:bold; font-size:xx-small\">MARK: __%</p>\n",
    "<p style=\"color:red; font-weight:bold; font-size:xx-small\">FEEDBACK: </p>"
   ]
  },
  {
   "cell_type": "markdown",
   "metadata": {
    "deletable": false
   },
   "source": [
    "### Requirement FR10 - Investigate the effects of engagement on attainment"
   ]
  },
  {
   "cell_type": "code",
   "execution_count": 12,
   "metadata": {
    "deletable": false,
    "scrolled": true
   },
   "outputs": [
    {
     "data": {
      "image/png": "[encoded data removed]",
      "text/plain": [
       "<Figure size 640x480 with 1 Axes>"
      ]
     },
     "metadata": {},
     "output_type": "display_data"
    }
   ],
   "source": [
    "# replace with your code\n",
    "import seaborn as sns\n",
    "import matplotlib.pyplot as plt\n",
    "\n",
    "\n",
    "\n",
    "# Create a scatter plot using Seaborn\n",
    "sns.scatterplot(x='click_events', y='score', data = merged_file)\n",
    "\n",
    "\n",
    "\n",
    "# Add a title and labels for the axes\n",
    "plt.title('Effects of Engagement on Attainment')\n",
    "plt.xlabel('Click Events')\n",
    "plt.ylabel('Score')\n",
    "\n",
    "#show the plot\n",
    "plt.show()\n",
    "\n",
    "\n",
    "\n",
    "\n",
    "\n",
    "\n",
    "\n"
   ]
  },
  {
   "cell_type": "code",
   "execution_count": 13,
   "metadata": {},
   "outputs": [
    {
     "data": {
      "text/html": [
       "<div>\n",
       "<style scoped>\n",
       "    .dataframe tbody tr th:only-of-type {\n",
       "        vertical-align: middle;\n",
       "    }\n",
       "\n",
       "    .dataframe tbody tr th {\n",
       "        vertical-align: top;\n",
       "    }\n",
       "\n",
       "    .dataframe thead th {\n",
       "        text-align: right;\n",
       "    }\n",
       "</style>\n",
       "<table border=\"1\" class=\"dataframe\">\n",
       "  <thead>\n",
       "    <tr style=\"text-align: right;\">\n",
       "      <th></th>\n",
       "      <th>Unnamed: 0</th>\n",
       "      <th>id_student</th>\n",
       "      <th>gender</th>\n",
       "      <th>age_band</th>\n",
       "      <th>disability</th>\n",
       "      <th>score</th>\n",
       "      <th>click_events</th>\n",
       "    </tr>\n",
       "  </thead>\n",
       "  <tbody>\n",
       "    <tr>\n",
       "      <th>0</th>\n",
       "      <td>0</td>\n",
       "      <td>11391</td>\n",
       "      <td>M</td>\n",
       "      <td>55&lt;=</td>\n",
       "      <td>N</td>\n",
       "      <td>82.0</td>\n",
       "      <td>934.0</td>\n",
       "    </tr>\n",
       "    <tr>\n",
       "      <th>1</th>\n",
       "      <td>1</td>\n",
       "      <td>28400</td>\n",
       "      <td>F</td>\n",
       "      <td>35-55</td>\n",
       "      <td>N</td>\n",
       "      <td>67.0</td>\n",
       "      <td>1435.0</td>\n",
       "    </tr>\n",
       "    <tr>\n",
       "      <th>2</th>\n",
       "      <td>2</td>\n",
       "      <td>31604</td>\n",
       "      <td>F</td>\n",
       "      <td>35-55</td>\n",
       "      <td>N</td>\n",
       "      <td>76.0</td>\n",
       "      <td>2158.0</td>\n",
       "    </tr>\n",
       "    <tr>\n",
       "      <th>3</th>\n",
       "      <td>3</td>\n",
       "      <td>32885</td>\n",
       "      <td>F</td>\n",
       "      <td>0-35</td>\n",
       "      <td>N</td>\n",
       "      <td>55.0</td>\n",
       "      <td>1034.0</td>\n",
       "    </tr>\n",
       "    <tr>\n",
       "      <th>4</th>\n",
       "      <td>4</td>\n",
       "      <td>38053</td>\n",
       "      <td>M</td>\n",
       "      <td>35-55</td>\n",
       "      <td>N</td>\n",
       "      <td>68.0</td>\n",
       "      <td>2445.0</td>\n",
       "    </tr>\n",
       "  </tbody>\n",
       "</table>\n",
       "</div>"
      ],
      "text/plain": [
       "   Unnamed: 0  id_student gender age_band disability  score  click_events\n",
       "0           0       11391      M     55<=          N   82.0         934.0\n",
       "1           1       28400      F    35-55          N   67.0        1435.0\n",
       "2           2       31604      F    35-55          N   76.0        2158.0\n",
       "3           3       32885      F     0-35          N   55.0        1034.0\n",
       "4           4       38053      M    35-55          N   68.0        2445.0"
      ]
     },
     "execution_count": 13,
     "metadata": {},
     "output_type": "execute_result"
    }
   ],
   "source": [
    "merged_file.head()"
   ]
  },
  {
   "cell_type": "markdown",
   "metadata": {},
   "source": [
    "###explanation\n",
    "\n",
    "this scatter plot shows a relationship beween the number of engagement(cick_events) and the level of attainment(score)\n",
    "the x axis shows the engagement(click_events) and the y axis shows the slevel of attainment(score)and data= merged_file specifies the data frame used for the plot \n",
    "from the graph as shown above as the number of engagements (click event) increases the number of attainment(score) also increases which shows that engagement is a major factor in determining student success\n",
    "other factors such as student ability,motivation and effort also play a vital role in the attainment\n"
   ]
  },
  {
   "cell_type": "markdown",
   "metadata": {
    "deletable": false
   },
   "source": [
    "<p style=\"color:red; font-weight:bold; font-size:xx-small\">MARK: __%</p>\n",
    "<p style=\"color:red; font-weight:bold; font-size:xx-small\">FEEDBACK: </p>"
   ]
  },
  {
   "cell_type": "markdown",
   "metadata": {
    "deletable": false
   },
   "source": [
    "### Requirement FR11 - Test the hypothesis that engagement has some effect on levels of attainment "
   ]
  },
  {
   "cell_type": "code",
   "execution_count": 14,
   "metadata": {
    "deletable": false
   },
   "outputs": [
    {
     "name": "stdout",
     "output_type": "stream",
     "text": [
      "Correlation coefficient: 0.279725939173991\n",
      "p-value: 0.0\n"
     ]
    }
   ],
   "source": [
    "# replace with your code\n",
    "\n",
    "import scipy.stats as stats\n",
    "from scipy.stats import pearsonr\n",
    "\n",
    "\n",
    "# Calculating the Pearson correlation coefficient and p-value\n",
    "corr, pval = stats.pearsonr(merged_file['click_events'], merged_file['score'])\n",
    "\n",
    "\n",
    "#print result\n",
    "print('Correlation coefficient:', corr)\n",
    "print('p-value:', pval)\n"
   ]
  },
  {
   "cell_type": "code",
   "execution_count": 15,
   "metadata": {
    "scrolled": true
   },
   "outputs": [
    {
     "data": {
      "text/html": [
       "<div>\n",
       "<style scoped>\n",
       "    .dataframe tbody tr th:only-of-type {\n",
       "        vertical-align: middle;\n",
       "    }\n",
       "\n",
       "    .dataframe tbody tr th {\n",
       "        vertical-align: top;\n",
       "    }\n",
       "\n",
       "    .dataframe thead th {\n",
       "        text-align: right;\n",
       "    }\n",
       "</style>\n",
       "<table border=\"1\" class=\"dataframe\">\n",
       "  <thead>\n",
       "    <tr style=\"text-align: right;\">\n",
       "      <th></th>\n",
       "      <th>Unnamed: 0</th>\n",
       "      <th>id_student</th>\n",
       "      <th>gender</th>\n",
       "      <th>age_band</th>\n",
       "      <th>disability</th>\n",
       "      <th>score</th>\n",
       "      <th>click_events</th>\n",
       "    </tr>\n",
       "  </thead>\n",
       "  <tbody>\n",
       "    <tr>\n",
       "      <th>0</th>\n",
       "      <td>0</td>\n",
       "      <td>11391</td>\n",
       "      <td>M</td>\n",
       "      <td>55&lt;=</td>\n",
       "      <td>N</td>\n",
       "      <td>82.0</td>\n",
       "      <td>934.0</td>\n",
       "    </tr>\n",
       "    <tr>\n",
       "      <th>1</th>\n",
       "      <td>1</td>\n",
       "      <td>28400</td>\n",
       "      <td>F</td>\n",
       "      <td>35-55</td>\n",
       "      <td>N</td>\n",
       "      <td>67.0</td>\n",
       "      <td>1435.0</td>\n",
       "    </tr>\n",
       "    <tr>\n",
       "      <th>2</th>\n",
       "      <td>2</td>\n",
       "      <td>31604</td>\n",
       "      <td>F</td>\n",
       "      <td>35-55</td>\n",
       "      <td>N</td>\n",
       "      <td>76.0</td>\n",
       "      <td>2158.0</td>\n",
       "    </tr>\n",
       "    <tr>\n",
       "      <th>3</th>\n",
       "      <td>3</td>\n",
       "      <td>32885</td>\n",
       "      <td>F</td>\n",
       "      <td>0-35</td>\n",
       "      <td>N</td>\n",
       "      <td>55.0</td>\n",
       "      <td>1034.0</td>\n",
       "    </tr>\n",
       "    <tr>\n",
       "      <th>4</th>\n",
       "      <td>4</td>\n",
       "      <td>38053</td>\n",
       "      <td>M</td>\n",
       "      <td>35-55</td>\n",
       "      <td>N</td>\n",
       "      <td>68.0</td>\n",
       "      <td>2445.0</td>\n",
       "    </tr>\n",
       "  </tbody>\n",
       "</table>\n",
       "</div>"
      ],
      "text/plain": [
       "   Unnamed: 0  id_student gender age_band disability  score  click_events\n",
       "0           0       11391      M     55<=          N   82.0         934.0\n",
       "1           1       28400      F    35-55          N   67.0        1435.0\n",
       "2           2       31604      F    35-55          N   76.0        2158.0\n",
       "3           3       32885      F     0-35          N   55.0        1034.0\n",
       "4           4       38053      M    35-55          N   68.0        2445.0"
      ]
     },
     "execution_count": 15,
     "metadata": {},
     "output_type": "execute_result"
    }
   ],
   "source": [
    "merged_file.head()"
   ]
  },
  {
   "cell_type": "markdown",
   "metadata": {},
   "source": [
    "#EXPLANATION OF FINDINGS\n",
    "From the above result correlation coefficeint is approximately 0.28 and p-value is 0.0 which shows that;-\n",
    "there is a statistically significant possitive correlation between the two variables being analyzed.\n",
    "the correlation coefficient 0f 0.28 shows a positive correlation between variables.\n",
    "that means as one variable increases the other tends to increase as well.\n",
    "The p-value of 0.0 means that the observed correlation is statistically significant and it is unlikely to have occured by chance."
   ]
  },
  {
   "cell_type": "markdown",
   "metadata": {
    "deletable": false
   },
   "source": [
    "<p style=\"color:red; font-weight:bold; font-size:xx-small\">MARK: __%</p>\n",
    "<p style=\"color:red; font-weight:bold; font-size:xx-small\">FEEDBACK: </p>"
   ]
  },
  {
   "cell_type": "markdown",
   "metadata": {
    "deletable": false
   },
   "source": [
    "### Requirement FR12 - Investigate the effects of gender on levels of attainment "
   ]
  },
  {
   "cell_type": "code",
   "execution_count": 16,
   "metadata": {
    "deletable": false
   },
   "outputs": [
    {
     "data": {
      "image/png": "[encoded data removed]",
      "text/plain": [
       "<Figure size 640x480 with 1 Axes>"
      ]
     },
     "metadata": {},
     "output_type": "display_data"
    }
   ],
   "source": [
    "# replace with your code\n",
    "import seaborn as sns\n",
    "import matplotlib.pyplot as plt\n",
    "\n",
    "\n",
    "#create boxplot \n",
    "sns.boxplot(x='gender', y='score', data=merged_file)\n",
    "\n",
    "#add the titles and labels\n",
    "plt.title('Effects of Gender on levels of  Attainment')\n",
    "plt.xlabel('Gender')\n",
    "plt.ylabel('Score')\n",
    "\n",
    "\n",
    "#show the plot\n",
    "plt.show()\n",
    "\n",
    "\n"
   ]
  },
  {
   "cell_type": "markdown",
   "metadata": {},
   "source": [
    "####explanation\n",
    "This code uses the Seaborn library to create a box plot that compares the levels of attainment(scores) between genders\n",
    "seaborn and matplotlib libraries were imported as sns and plt respectively\n",
    "i used the sns.boxplot() function to create the box plot where x ='gender'  and y = 'score'\n",
    "which im trying to compare the score variable across the gender variable and data= merged_tasks specifies the data frame used for the plot.\n",
    "i then added titles and labels to the plot using matplotlib's using plt.title for the title and plt.xlabel for the x axis and plt.ylabel for the y axis\n",
    "the title was set to 'Effects of Gender on levels of  Attainment'\n",
    "the xlabel was set to 'gender'\n",
    "the ylabel was set to 'score'\n",
    "\n",
    "#The result of the plot shows two boxes one for male and the other for female with lot of outliers\n",
    "The box plot allows us to visualize the distribution of attainment scores For males And females\n",
    "The boxes represent the interquartile Range (IQR), which contains the middle 50% of the data\n",
    "the line inside the box represents the median (middle value) of the data.\n",
    "Looking at the box plot, we can see that the median attainment score For females Is slightly higher than that of males, \n",
    "And the IQR For females Is slightly narrower than that of males.\n",
    "However, there Is some overlap overlap between the distributions,\n",
    "which means that there are some males With higher attainment scores than some females, And vice versa.\n",
    "\n",
    "\n",
    "IN CONCLUSION the box plot suggests that there may be a small effect of gender on attainment,\n",
    "with females tending to have slightly higher attainment scores than males. \n",
    "However, the effect is not large enough to be considered significant based on this small sample size.\n",
    "\n"
   ]
  },
  {
   "cell_type": "code",
   "execution_count": 17,
   "metadata": {},
   "outputs": [
    {
     "data": {
      "text/html": [
       "<div>\n",
       "<style scoped>\n",
       "    .dataframe tbody tr th:only-of-type {\n",
       "        vertical-align: middle;\n",
       "    }\n",
       "\n",
       "    .dataframe tbody tr th {\n",
       "        vertical-align: top;\n",
       "    }\n",
       "\n",
       "    .dataframe thead th {\n",
       "        text-align: right;\n",
       "    }\n",
       "</style>\n",
       "<table border=\"1\" class=\"dataframe\">\n",
       "  <thead>\n",
       "    <tr style=\"text-align: right;\">\n",
       "      <th></th>\n",
       "      <th>Unnamed: 0</th>\n",
       "      <th>id_student</th>\n",
       "      <th>gender</th>\n",
       "      <th>age_band</th>\n",
       "      <th>disability</th>\n",
       "      <th>score</th>\n",
       "      <th>click_events</th>\n",
       "    </tr>\n",
       "  </thead>\n",
       "  <tbody>\n",
       "    <tr>\n",
       "      <th>0</th>\n",
       "      <td>0</td>\n",
       "      <td>11391</td>\n",
       "      <td>M</td>\n",
       "      <td>55&lt;=</td>\n",
       "      <td>N</td>\n",
       "      <td>82.0</td>\n",
       "      <td>934.0</td>\n",
       "    </tr>\n",
       "    <tr>\n",
       "      <th>1</th>\n",
       "      <td>1</td>\n",
       "      <td>28400</td>\n",
       "      <td>F</td>\n",
       "      <td>35-55</td>\n",
       "      <td>N</td>\n",
       "      <td>67.0</td>\n",
       "      <td>1435.0</td>\n",
       "    </tr>\n",
       "    <tr>\n",
       "      <th>2</th>\n",
       "      <td>2</td>\n",
       "      <td>31604</td>\n",
       "      <td>F</td>\n",
       "      <td>35-55</td>\n",
       "      <td>N</td>\n",
       "      <td>76.0</td>\n",
       "      <td>2158.0</td>\n",
       "    </tr>\n",
       "    <tr>\n",
       "      <th>3</th>\n",
       "      <td>3</td>\n",
       "      <td>32885</td>\n",
       "      <td>F</td>\n",
       "      <td>0-35</td>\n",
       "      <td>N</td>\n",
       "      <td>55.0</td>\n",
       "      <td>1034.0</td>\n",
       "    </tr>\n",
       "    <tr>\n",
       "      <th>4</th>\n",
       "      <td>4</td>\n",
       "      <td>38053</td>\n",
       "      <td>M</td>\n",
       "      <td>35-55</td>\n",
       "      <td>N</td>\n",
       "      <td>68.0</td>\n",
       "      <td>2445.0</td>\n",
       "    </tr>\n",
       "  </tbody>\n",
       "</table>\n",
       "</div>"
      ],
      "text/plain": [
       "   Unnamed: 0  id_student gender age_band disability  score  click_events\n",
       "0           0       11391      M     55<=          N   82.0         934.0\n",
       "1           1       28400      F    35-55          N   67.0        1435.0\n",
       "2           2       31604      F    35-55          N   76.0        2158.0\n",
       "3           3       32885      F     0-35          N   55.0        1034.0\n",
       "4           4       38053      M    35-55          N   68.0        2445.0"
      ]
     },
     "execution_count": 17,
     "metadata": {},
     "output_type": "execute_result"
    }
   ],
   "source": [
    "merged_file.head()"
   ]
  },
  {
   "cell_type": "markdown",
   "metadata": {
    "deletable": false
   },
   "source": [
    "<p style=\"color:red; font-weight:bold; font-size:xx-small\">MARK: __%</p>\n",
    "<p style=\"color:red; font-weight:bold; font-size:xx-small\">FEEDBACK: </p>"
   ]
  },
  {
   "cell_type": "markdown",
   "metadata": {
    "deletable": false
   },
   "source": [
    "### Requirement FR13 - Test if there is any difference between the attainment of male and female students"
   ]
  },
  {
   "cell_type": "code",
   "execution_count": 18,
   "metadata": {
    "deletable": false
   },
   "outputs": [
    {
     "name": "stdout",
     "output_type": "stream",
     "text": [
      "t-statistic: 0.6636771237804253\n",
      "p-value: 0.5069038972481958\n"
     ]
    }
   ],
   "source": [
    "# replace with your code\n",
    "from scipy.stats import ttest_ind\n",
    "\n",
    "\n",
    "\n",
    "male_scores = merged_file[merged_file['gender'] == 'M']['score']\n",
    "\n",
    "female_scores = merged_file[merged_file['gender'] == 'F']['score']\n",
    "\n",
    "\n",
    "\n",
    "t_statistic, p_value = ttest_ind(male_scores, female_scores)\n",
    "\n",
    "print('t-statistic:', t_statistic)\n",
    "\n",
    "print('p-value:', p_value)\n",
    "\n"
   ]
  },
  {
   "cell_type": "code",
   "execution_count": 19,
   "metadata": {},
   "outputs": [
    {
     "data": {
      "text/html": [
       "<div>\n",
       "<style scoped>\n",
       "    .dataframe tbody tr th:only-of-type {\n",
       "        vertical-align: middle;\n",
       "    }\n",
       "\n",
       "    .dataframe tbody tr th {\n",
       "        vertical-align: top;\n",
       "    }\n",
       "\n",
       "    .dataframe thead th {\n",
       "        text-align: right;\n",
       "    }\n",
       "</style>\n",
       "<table border=\"1\" class=\"dataframe\">\n",
       "  <thead>\n",
       "    <tr style=\"text-align: right;\">\n",
       "      <th></th>\n",
       "      <th>Unnamed: 0</th>\n",
       "      <th>id_student</th>\n",
       "      <th>gender</th>\n",
       "      <th>age_band</th>\n",
       "      <th>disability</th>\n",
       "      <th>score</th>\n",
       "      <th>click_events</th>\n",
       "    </tr>\n",
       "  </thead>\n",
       "  <tbody>\n",
       "    <tr>\n",
       "      <th>0</th>\n",
       "      <td>0</td>\n",
       "      <td>11391</td>\n",
       "      <td>M</td>\n",
       "      <td>55&lt;=</td>\n",
       "      <td>N</td>\n",
       "      <td>82.0</td>\n",
       "      <td>934.0</td>\n",
       "    </tr>\n",
       "    <tr>\n",
       "      <th>1</th>\n",
       "      <td>1</td>\n",
       "      <td>28400</td>\n",
       "      <td>F</td>\n",
       "      <td>35-55</td>\n",
       "      <td>N</td>\n",
       "      <td>67.0</td>\n",
       "      <td>1435.0</td>\n",
       "    </tr>\n",
       "    <tr>\n",
       "      <th>2</th>\n",
       "      <td>2</td>\n",
       "      <td>31604</td>\n",
       "      <td>F</td>\n",
       "      <td>35-55</td>\n",
       "      <td>N</td>\n",
       "      <td>76.0</td>\n",
       "      <td>2158.0</td>\n",
       "    </tr>\n",
       "    <tr>\n",
       "      <th>3</th>\n",
       "      <td>3</td>\n",
       "      <td>32885</td>\n",
       "      <td>F</td>\n",
       "      <td>0-35</td>\n",
       "      <td>N</td>\n",
       "      <td>55.0</td>\n",
       "      <td>1034.0</td>\n",
       "    </tr>\n",
       "    <tr>\n",
       "      <th>4</th>\n",
       "      <td>4</td>\n",
       "      <td>38053</td>\n",
       "      <td>M</td>\n",
       "      <td>35-55</td>\n",
       "      <td>N</td>\n",
       "      <td>68.0</td>\n",
       "      <td>2445.0</td>\n",
       "    </tr>\n",
       "  </tbody>\n",
       "</table>\n",
       "</div>"
      ],
      "text/plain": [
       "   Unnamed: 0  id_student gender age_band disability  score  click_events\n",
       "0           0       11391      M     55<=          N   82.0         934.0\n",
       "1           1       28400      F    35-55          N   67.0        1435.0\n",
       "2           2       31604      F    35-55          N   76.0        2158.0\n",
       "3           3       32885      F     0-35          N   55.0        1034.0\n",
       "4           4       38053      M    35-55          N   68.0        2445.0"
      ]
     },
     "execution_count": 19,
     "metadata": {},
     "output_type": "execute_result"
    }
   ],
   "source": [
    "merged_file.head()"
   ]
  },
  {
   "cell_type": "markdown",
   "metadata": {
    "deletable": false
   },
   "source": [
    "\n"
   ]
  },
  {
   "cell_type": "markdown",
   "metadata": {
    "deletable": false
   },
   "source": [
    "# Coding Standards\n",
    "<p style=\"color:red; font-weight:bold; font-size:xx-small\">MARK: __%</p>\n",
    "<p style=\"color:red; font-weight:bold; font-size:xx-small\">FEEDBACK: </p>"
   ]
  },
  {
   "cell_type": "markdown",
   "metadata": {
    "deletable": false
   },
   "source": [
    "# Process Development Report for Programming Task C\n"
   ]
  },
  {
   "cell_type": "markdown",
   "metadata": {},
   "source": [
    "add markdown text here"
   ]
  },
  {
   "cell_type": "markdown",
   "metadata": {},
   "source": [
    "This report outlines the process of analyzing engagement and attainment data from two CSV files. \n",
    "The aim is to merge the two files, clean the merged data, filter out unnecessary rows,\n",
    "and investigate the effects of engagement and gender on attainment.\n",
    "I also test the hypothesis that engagement has an effect on levels of attainment."
   ]
  },
  {
   "cell_type": "markdown",
   "metadata": {},
   "source": [
    "The CSV data from two files (task2a and task2b) were merged using a library function called MERGE to create a single Data Frame. However, this merging process could also be done using the built-in csv module in Python.\n",
    "\n",
    "The csv module provides a basic way of reading and writing CSV files, allowing the data to be processed line by line. Although it may require more coding than using a library like pandas or numpy, the csv module can be useful for handling large CSV files or for cases where only simple CSV processing is required.\n",
    "\n",
    "Once the CSV data has been read and stored in memory, the two sets of data can be combined into a single data structure by creating a new list of records that contains the data from both files. The resulting list can then be converted into a Pandas Data Frame, allowing for further analysis and manipulation.\n"
   ]
  },
  {
   "cell_type": "markdown",
   "metadata": {},
   "source": [
    "The merged data contained some missing values, duplicate records, and irrelevant columns.\n",
    "I cleaned the data by dropping the irrelevant columns, removing duplicate records USING THE dropna Function,\n",
    "and replacing the missing values with the mean value of the respective column.\n",
    "although all of these can be done manually or using excel but python libraries is of good advantage over these because it can handle large datasets with ease, making them suitable for data analysis tasks that may be too large or complex for Excel or any other built in functions."
   ]
  },
  {
   "cell_type": "markdown",
   "metadata": {},
   "source": [
    "Filtering the data was necessary in order to remove outliers and ensure consistency of the data. The aim was to filter out rows where the click event was greater than or equal to 2000 and to drop the duplicates. A python library was used together with boolean indexing to efficiently achieve this.\n",
    "\n",
    "However, another way of filtering data without using libraries or boolean indexing is by using a for loop and conditional statements to manually check each record in the data and only keep the ones that meet the desired criteria. This method may be useful for smaller datasets or when libraries or boolean indexing are not available or not preferred. However, it can be less efficient and more time-consuming compared to using libraries or boolean indexing, especially for larger datasets.\n",
    "\n",
    "It is important to choose the appropriate method of filtering data based on the size of the dataset, the desired outcome, and the available resources. For larger datasets, using libraries or boolean indexing can save time and effort, while for smaller datasets or situations where libraries or boolean indexing are not available or not preferred, manual filtering with a for loop and conditional statements can be a viable alternative."
   ]
  },
  {
   "cell_type": "markdown",
   "metadata": {},
   "source": [
    "The goal of the first three task is to do a data cleaning, nad manipulation and i chose to use pandas\n",
    "because libraries like Pandas is generally more efficient and convenient for this tasks.\n",
    "NumPy can also be used to perform some basic data cleaning and manipulation tasks. \n",
    "NumPy provides functions for filtering, sorting, and reshaping arrays.\n",
    "It also has built-in functions for handling missing values and duplicates,\n",
    "and can perform basic statistical analysis such as mean, median, and standard deviation. \n",
    "However, compared to Pandas, NumPy's data manipulation capabilities are relatively limited. \n",
    "Pandas is specifically designed for data analysis and provides more advanced data manipulation features, \n",
    "such as data aggregation, merging, and reshaping, and is more suitable for large-scale data analysis tasks."
   ]
  },
  {
   "cell_type": "markdown",
   "metadata": {},
   "source": [
    "An investigation was conducted to explore the relationship between gender and levels of attainment. \n",
    "for FR12\n",
    "Using the Pandas library offers the advantage of integrating with other popular data visualization libraries like Matplotlib and Seaborn, making it easier to create various types of plots and charts for visualizing data. In this case, the box plot is an appropriate visualization tool because it provides a clear summary of the distribution of the data and allows for easy comparison of two genders.\n",
    "\n",
    "Compared to other statistical tests like the t-test or violin plot, the box plot is more suitable for summarizing the median, quartiles, and range of the data. Box plots are particularly useful for comparing the distributions of multiple groups side-by-side and identifying outliers or extreme values. Overall, using a box plot is a simple and effective way to summarize and compare the attainment levels between males and females in this investigation."
   ]
  },
  {
   "cell_type": "markdown",
   "metadata": {},
   "source": [
    "for FR11 and FR13 tasks scipy was used because\n",
    "Scipy provides advanced mathematical algorithms and functions that may not be available in Pandas or Numpy, making it a valuable tool for advanced scientific research and data analysis. Additionally, Scipy integrates well with other scientific Python libraries, such as Matplotlib and Numpy, providing a comprehensive suite of tools for scientific computing.\n",
    "However, Scipy may have a steeper learning curve than Pandas or Numpy due to its advanced mathematical concepts and terminology. Additionally, Scipy may be overkill for simpler data analysis tasks, where Pandas or Numpy can perform the same operations more efficiently."
   ]
  },
  {
   "cell_type": "markdown",
   "metadata": {},
   "source": [
    "The tasks were challenging, but they also provided opportunities to learn and improve programming skills. For instance, Task 1 required knowledge of basic statistical concepts, such as correlation coefficients, and how to calculate them using Python. Task 2 was an exercise in algorithmic thinking and helped to develop problem-solving skills.\n",
    "other challenges faced during the development process was identifying and removing duplicate rows based on the 'id_student' column. It was necessary to do this to ensure that the data was accurate and that the results were not skewed by duplicate data. Another challenge was determining which columns were unnecessary and could be removed from the dataframe without losing valuable information.\n",
    "Importing libraries or making use of pandas made this particular task easy for me because i'm used to pandas and it looks more simplier. "
   ]
  },
  {
   "cell_type": "markdown",
   "metadata": {},
   "source": [
    "In conclusion,\n",
    "this report has outlined the process of analyzing engagement and attainment data from two CSV files.  merged the two files, cleaned the merged data, filtered out unnecessary rows,\n",
    "investigated the effects of engagement and gender on attainment, and tested the hypothesis that engagement has an effect on levels of attainment. \n",
    "my findings showed a positive correlation between engagement and attainment, significant gender differences in attainment, and gender and engagement effects on attainment.\n"
   ]
  },
  {
   "cell_type": "markdown",
   "metadata": {
    "deletable": false
   },
   "source": [
    "<p style=\"color:red; font-weight:bold; font-size:xx-small\">MARK: __%</p>\n",
    "<p style=\"color:red; font-weight:bold; font-size:xx-small\">FEEDBACK: </p>"
   ]
  }
 ],
 "metadata": {
  "kernelspec": {
   "display_name": "Python 3 (ipykernel)",
   "language": "python",
   "name": "python3"
  },
  "language_info": {
   "codemirror_mode": {
    "name": "ipython",
    "version": 3
   },
   "file_extension": ".py",
   "mimetype": "text/x-python",
   "name": "python",
   "nbconvert_exporter": "python",
   "pygments_lexer": "ipython3",
   "version": "3.9.13"
  }
 },
 "nbformat": 4,
 "nbformat_minor": 4
}
